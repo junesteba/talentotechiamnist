{
 "cells": [
  {
   "cell_type": "code",
   "execution_count": 1,
   "metadata": {},
   "outputs": [],
   "source": [
    "\n",
    "# Paso 1: Importar bibliotecas\n",
    "import tensorflow as tf\n",
    "from tensorflow.keras import layers, models\n",
    "from tensorflow.keras.datasets import mnist\n",
    "import numpy as np\n",
    "import matplotlib.pyplot as plt\n",
    "from PIL import Image"
   ]
  },
  {
   "cell_type": "code",
   "execution_count": 2,
   "metadata": {},
   "outputs": [
    {
     "name": "stdout",
     "output_type": "stream",
     "text": [
      "GPUs disponibles:  [PhysicalDevice(name='/physical_device:CPU:0', device_type='CPU')]\n"
     ]
    }
   ],
   "source": [
    "\n",
    "import tensorflow as tf\n",
    "print(\"GPUs disponibles: \", tf.config.list_physical_devices('CPU'))\n"
   ]
  },
  {
   "cell_type": "code",
   "execution_count": 3,
   "metadata": {},
   "outputs": [],
   "source": [
    "#Paso 2: Cargar el conjunto de datos MNIST\n",
    "(x_train, y_train), (x_test, y_test) = mnist.load_data()"
   ]
  },
  {
   "cell_type": "code",
   "execution_count": 4,
   "metadata": {},
   "outputs": [],
   "source": [
    "# Paso 3: Preprocesar los datos\n",
    "x_train = x_train.astype('float32') / 255  # Normalización\n",
    "x_test = x_test.astype('float32') / 255\n",
    "x_train = x_train.reshape(-1, 28 * 28)     # Aplanar las imágenes y convertirlo en vector\n",
    "x_test = x_test.reshape(-1, 28 * 28)\n",
    "y_train = tf.keras.utils.to_categorical(y_train, 10)  # One-hot encoding\n",
    "y_test = tf.keras.utils.to_categorical(y_test, 10)"
   ]
  },
  {
   "cell_type": "code",
   "execution_count": 5,
   "metadata": {},
   "outputs": [],
   "source": [
    "# Paso 4: Definir el modelo MLP\n",
    "model = models.Sequential()\n",
    "model.add(layers.Dense(512, activation='relu', input_shape=(28 * 28,)))\n",
    "model.add(layers.Dense(256, activation='relu'))\n",
    "model.add(layers.Dense(128, activation='relu'))\n",
    "model.add(layers.Dense(10, activation='softmax'))  # 10 clases de salida"
   ]
  },
  {
   "cell_type": "code",
   "execution_count": 6,
   "metadata": {},
   "outputs": [],
   "source": [
    "# Paso 5: Compilar el modelo\n",
    "model.compile(optimizer='adam',\n",
    "              loss='categorical_crossentropy',\n",
    "              metrics=['accuracy'])\n"
   ]
  },
  {
   "cell_type": "code",
   "execution_count": 7,
   "metadata": {},
   "outputs": [
    {
     "name": "stdout",
     "output_type": "stream",
     "text": [
      "Epoch 1/10\n",
      "375/375 [==============================] - 7s 15ms/step - loss: 0.2524 - accuracy: 0.9261 - val_loss: 0.1263 - val_accuracy: 0.9622\n",
      "Epoch 2/10\n",
      "375/375 [==============================] - 5s 14ms/step - loss: 0.0943 - accuracy: 0.9715 - val_loss: 0.1044 - val_accuracy: 0.9696\n",
      "Epoch 3/10\n",
      "375/375 [==============================] - 5s 13ms/step - loss: 0.0587 - accuracy: 0.9815 - val_loss: 0.0900 - val_accuracy: 0.9731\n",
      "Epoch 4/10\n",
      "375/375 [==============================] - 5s 13ms/step - loss: 0.0411 - accuracy: 0.9867 - val_loss: 0.0995 - val_accuracy: 0.9724\n",
      "Epoch 5/10\n",
      "375/375 [==============================] - 5s 13ms/step - loss: 0.0324 - accuracy: 0.9886 - val_loss: 0.0912 - val_accuracy: 0.9730\n",
      "Epoch 6/10\n",
      "375/375 [==============================] - 5s 13ms/step - loss: 0.0268 - accuracy: 0.9909 - val_loss: 0.0916 - val_accuracy: 0.9735\n",
      "Epoch 7/10\n",
      "375/375 [==============================] - 5s 13ms/step - loss: 0.0184 - accuracy: 0.9939 - val_loss: 0.0964 - val_accuracy: 0.9762\n",
      "Epoch 8/10\n",
      "375/375 [==============================] - 5s 13ms/step - loss: 0.0192 - accuracy: 0.9937 - val_loss: 0.1033 - val_accuracy: 0.9762\n",
      "Epoch 9/10\n",
      "375/375 [==============================] - 5s 13ms/step - loss: 0.0169 - accuracy: 0.9941 - val_loss: 0.0993 - val_accuracy: 0.9766\n",
      "Epoch 10/10\n",
      "375/375 [==============================] - 5s 13ms/step - loss: 0.0171 - accuracy: 0.9943 - val_loss: 0.1103 - val_accuracy: 0.9757\n"
     ]
    }
   ],
   "source": [
    "# Paso 6: Entrenar el modelo\n",
    "history = model.fit(x_train, y_train, epochs=10, batch_size=128, validation_split=0.2)"
   ]
  },
  {
   "cell_type": "code",
   "execution_count": 8,
   "metadata": {},
   "outputs": [
    {
     "name": "stdout",
     "output_type": "stream",
     "text": [
      "313/313 [==============================] - 2s 5ms/step - loss: 0.0841 - accuracy: 0.9797\n",
      "Precisión en el conjunto de prueba: 0.9797000288963318\n"
     ]
    }
   ],
   "source": [
    "# Paso 7: Evaluar el modelo\n",
    "test_loss, test_acc = model.evaluate(x_test, y_test)\n",
    "print(f'Precisión en el conjunto de prueba: {test_acc}')"
   ]
  },
  {
   "cell_type": "code",
   "execution_count": 1,
   "metadata": {},
   "outputs": [
    {
     "ename": "NameError",
     "evalue": "name 'x_test' is not defined",
     "output_type": "error",
     "traceback": [
      "\u001b[1;31m---------------------------------------------------------------------------\u001b[0m",
      "\u001b[1;31mNameError\u001b[0m                                 Traceback (most recent call last)",
      "Cell \u001b[1;32mIn[1], line 2\u001b[0m\n\u001b[0;32m      1\u001b[0m \u001b[38;5;66;03m# Paso 8: Probar el modelo con una imagen del conjunto de prueba\u001b[39;00m\n\u001b[1;32m----> 2\u001b[0m imagen \u001b[38;5;241m=\u001b[39m \u001b[43mx_test\u001b[49m[\u001b[38;5;241m0\u001b[39m]\u001b[38;5;241m.\u001b[39mreshape(\u001b[38;5;241m1\u001b[39m, \u001b[38;5;241m784\u001b[39m)  \u001b[38;5;66;03m# Aplanar la imagen en un vector de 784 valores\u001b[39;00m\n\u001b[0;32m      3\u001b[0m prediccion \u001b[38;5;241m=\u001b[39m model\u001b[38;5;241m.\u001b[39mpredict(imagen)\n\u001b[0;32m      4\u001b[0m digit_predicho \u001b[38;5;241m=\u001b[39m np\u001b[38;5;241m.\u001b[39margmax(prediccion)\n",
      "\u001b[1;31mNameError\u001b[0m: name 'x_test' is not defined"
     ]
    }
   ],
   "source": [
    "# Paso 8: Probar el modelo con una imagen del conjunto de prueba\n",
    "imagen = x_test[0].reshape(1, 784)  # Aplanar la imagen en un vector de 784 valores\n",
    "prediccion = model.predict(imagen)\n",
    "digit_predicho = np.argmax(prediccion)"
   ]
  },
  {
   "cell_type": "code",
   "execution_count": null,
   "metadata": {},
   "outputs": [],
   "source": [
    "import matplotlib\n",
    "\n",
    "# Mostrar la imagen y el dígito predicho\n",
    "plt.imshow(x_test[0].reshape(28, 28), cmap='gray')\n",
    "plt.title(f'Predicción: {digit_predicho}')\n",
    "plt.show()\n",
    "\n",
    "plt.clf()  # Limpiar la figura para liberar memoria"
   ]
  },
  {
   "cell_type": "code",
   "execution_count": 11,
   "metadata": {},
   "outputs": [
    {
     "name": "stdout",
     "output_type": "stream",
     "text": [
      "1/1 [==============================] - 0s 59ms/step\n",
      "Predicción para la imagen personalizada: 6\n"
     ]
    },
    {
     "name": "stderr",
     "output_type": "stream",
     "text": [
      "C:\\Users\\Usuario\\AppData\\Local\\Temp\\ipykernel_15692\\208535807.py:12: UserWarning: FigureCanvasAgg is non-interactive, and thus cannot be shown\n",
      "  plt.show()\n"
     ]
    }
   ],
   "source": [
    "# Paso 9: Probar el modelo con una imagen personalizada\n",
    "#ruta_imagen=\"D:/talento tech/ia/imagen1.png\"\n",
    "def predecir_imagen_personalizada(ruta_imagen):\n",
    "    img = Image.open(ruta_imagen).convert('L')  # Convertir a escala de grises\n",
    "    img = img.resize((28, 28))  # Redimensionar a 28x28 píxeles\n",
    "    img_array = np.array(img).reshape(1, 28 * 28).astype('float32') / 255  # Normalizar\n",
    "    prediccion = model.predict(img_array)  # Hacer la predicción\n",
    "    digit_predicho = np.argmax(prediccion)\n",
    "    print(f'Predicción para la imagen personalizada: {digit_predicho}')\n",
    "    plt.imshow(img, cmap='gray')\n",
    "    plt.title(f'Predicción: {digit_predicho}')\n",
    "    plt.show()\n",
    "# Prueba con una imagen personalizada (comenta o descomenta según lo necesites)\n",
    "predecir_imagen_personalizada(r\"C:\\Users\\Usuario\\Desktop\\IA\\Talento Tech\\Entorno virtual ANACONDA\\prueba.png\")"
   ]
  }
 ],
 "metadata": {
  "kernelspec": {
   "display_name": "Python 3",
   "language": "python",
   "name": "python3"
  },
  "language_info": {
   "codemirror_mode": {
    "name": "ipython",
    "version": 3
   },
   "file_extension": ".py",
   "mimetype": "text/x-python",
   "name": "python",
   "nbconvert_exporter": "python",
   "pygments_lexer": "ipython3",
   "version": "3.9.18"
  }
 },
 "nbformat": 4,
 "nbformat_minor": 2
}
